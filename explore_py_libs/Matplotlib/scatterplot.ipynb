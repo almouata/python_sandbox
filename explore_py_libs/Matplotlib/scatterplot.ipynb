{
 "cells": [
  {
   "cell_type": "code",
   "execution_count": 1,
   "metadata": {
    "collapsed": true
   },
   "outputs": [],
   "source": [
    "import numpy as np\n",
    "import matplotlib.pyplot as plt\n",
    "import pandas as pd\n",
    "\n",
    "A = pd.read_csv('C:\\sandbox\\workspace\\python\\explore_py_libs\\Matplotlib\\data_1d.csv', header=None).as_matrix()\n",
    "x = A[:,0]\n",
    "y = A[:,1]\n",
    "\n"
   ]
  },
  {
   "cell_type": "code",
   "execution_count": 2,
   "metadata": {},
   "outputs": [
    {
     "data": {
      "text/plain": [
       "array([ 95.72416241,  35.75761893,  28.81684742,  99.95848131,\n        66.80974831,  58.21569264,  53.82107634,  81.29608217,\n        80.64869706,  78.25281369,  16.86348369,  90.79914756,\n        53.31273701,  71.61878902,  18.41059178,  57.12434676,\n        81.13468392,  82.01525542,  36.92490825,  44.58712604,\n        26.66235446,  74.06505712,  17.74057673,   6.81974382,\n        26.31736009,  82.80411905,  39.44653696,  76.72812059,\n        42.21585614,  94.35857584,  42.14178513,   3.21124861,\n         6.8856734 ,  13.87577216,  63.29740364,  60.49251936,\n        79.60728523,  83.44436306,  54.89207011,  62.04594417,\n        66.65375794,  61.31981316,  47.31955299,  81.1509876 ,\n        91.02151367,  16.84346201,  76.50643657,  71.86570468,\n         9.84808948,  35.78971241,  35.888692  ,  90.82944871,\n         7.26207284,  35.35928817,  79.07925376,  21.55345833,\n        79.47642778,  48.76796664,  54.79386201,  87.50352552,\n        38.94913047,   9.39561282,  11.12118682,  46.13555826,\n        85.69757358,  50.1102964 ,  11.07366673,  22.22813085,\n        67.5539548 ,  12.78718566,  46.96549084,   4.84854065,\n        40.53733193,  26.33046127,  38.88472635,  93.83826653,\n        60.08165997,  50.11396522,  17.71868528,  85.07303114,\n        41.32150973,  35.45154709,  74.02102554,  90.5197211 ,\n        34.54059704,  94.56166213,  52.95626785,  80.10643641,\n        49.82275758,  61.78172531,  60.28610836,  77.32069019,\n        15.64635875,  71.54061834,  62.45239811,  79.05983237,\n        72.19769344,  71.41775342,  31.00882008,  40.32528222])"
      ]
     },
     "execution_count": 2,
     "metadata": {},
     "output_type": "execute_result"
    }
   ],
   "source": [
    "x"
   ]
  },
  {
   "cell_type": "code",
   "execution_count": 3,
   "metadata": {},
   "outputs": [
    {
     "data": {
      "text/plain": [
       "array([ 197.17963609,   67.59066954,   60.85413282,  196.90739698,\n        125.31112852,  115.78578459,  110.76277271,  157.98528569,\n        159.61941373,  149.00386554,   31.46759088,  184.18521966,\n        103.22061016,  143.27181836,   46.73641801,  107.1237942 ,\n        168.30937401,  166.82994267,   70.50145559,   96.86937025,\n         50.37323584,  145.51917071,   46.55187461,   13.24378631,\n         62.5006665 ,  159.91664958,   77.98420415,  147.26918314,\n         83.6452954 ,  191.95607269,   91.73273416,    8.25141677,\n         16.09638942,   33.35444214,  131.50574553,  128.69884306,\n        160.3103805 ,  160.60324574,  104.40029316,  126.96945605,\n        124.51916761,  125.21741443,   98.71948438,  166.43245548,\n        179.23687261,   33.77723374,  161.37296513,  138.575401  ,\n         17.90332828,   74.10859171,   74.82132297,  179.24154705,\n          6.43437238,   78.08635679,  154.59178976,   50.0307539 ,\n        165.44196619,  110.89728797,  114.69188511,  186.74420631,\n         70.69722298,   19.17903005,   27.02295992,   87.29244922,\n        167.92461412,   96.02054844,   24.94632465,   54.00414588,\n        133.16525443,   28.00622322,  100.60558947,   13.8572726 ,\n         82.59066294,   50.23180391,   79.48177242,  191.32431784,\n        120.49511544,  111.35232289,   44.93760649,  172.13320308,\n         84.889236  ,   69.91899124,  149.77864633,  187.59390974,\n         66.32685895,  189.14496411,  103.44683588,  158.52943007,\n         98.69883963,  122.64739506,  124.76334632,  155.67749312,\n         35.41060825,  151.32345871,  129.43395879,  163.09690261,\n        142.89852264,  148.09420854,   63.79687625,   86.72368533])"
      ]
     },
     "execution_count": 3,
     "metadata": {},
     "output_type": "execute_result"
    }
   ],
   "source": [
    "y"
   ]
  },
  {
   "cell_type": "code",
   "execution_count": 5,
   "metadata": {
    "collapsed": false
   },
   "outputs": [
    {
     "data": {
      "image/png": "[encoded data removed]",
      "text/plain": [
       "<matplotlib.figure.Figure at 0x57a4278>"
      ]
     },
     "metadata": {},
     "output_type": "display_data"
    }
   ],
   "source": [
    "plt.scatter(x,y)\n",
    "plt.show()"
   ]
  },
  {
   "cell_type": "code",
   "execution_count": null,
   "metadata": {},
   "outputs": [],
   "source": []
  }
 ],
 "metadata": {
  "kernelspec": {
   "display_name": "Python 2",
   "language": "python",
   "name": "python2"
  },
  "language_info": {
   "codemirror_mode": {
    "name": "ipython",
    "version": 2
   },
   "file_extension": ".py",
   "mimetype": "text/x-python",
   "name": "python",
   "nbconvert_exporter": "python",
   "pygments_lexer": "ipython2",
   "version": "2.7.6"
  }
 },
 "nbformat": 4,
 "nbformat_minor": 0
}
