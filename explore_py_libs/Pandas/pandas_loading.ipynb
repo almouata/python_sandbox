{
 "cells": [
  {
   "cell_type": "code",
   "execution_count": 1,
   "metadata": {
    "collapsed": true
   },
   "outputs": [],
   "source": [
    "import pandas as pd\n"
   ]
  },
  {
   "cell_type": "code",
   "execution_count": 2,
   "metadata": {},
   "outputs": [
    {
     "data": {
      "text/plain": [
       "pandas.core.frame.DataFrame"
      ]
     },
     "execution_count": 2,
     "metadata": {},
     "output_type": "execute_result"
    }
   ],
   "source": [
    "X = pd.read_csv(\"C:\\sandbox\\workspace\\python\\explore_py_libs\\Pandas\\data_2d.csv\", header=None)\n",
    "type(X)\n"
   ]
  },
  {
   "cell_type": "code",
   "execution_count": 3,
   "metadata": {},
   "outputs": [
    {
     "name": "stdout",
     "output_type": "stream",
     "text": [
      "<class 'pandas.core.frame.DataFrame'>\nRangeIndex: 100 entries, 0 to 99\nData columns (total 3 columns):\n0    100 non-null float64\n1    100 non-null float64\n2    100 non-null float64\ndtypes: float64(3)\nmemory usage: 2.4 KB\n"
     ]
    }
   ],
   "source": [
    "X.info()"
   ]
  },
  {
   "cell_type": "code",
   "execution_count": 4,
   "metadata": {},
   "outputs": [
    {
     "data": {
      "text/html": [
       "<div>\n",
       "<style scoped>\n",
       "    .dataframe tbody tr th:only-of-type {\n",
       "        vertical-align: middle;\n",
       "    }\n",
       "\n",
       "    .dataframe tbody tr th {\n",
       "        vertical-align: top;\n",
       "    }\n",
       "\n",
       "    .dataframe thead th {\n",
       "        text-align: right;\n",
       "    }\n",
       "</style>\n",
       "<table border=\"1\" class=\"dataframe\">\n",
       "  <thead>\n",
       "    <tr style=\"text-align: right;\">\n",
       "      <th></th>\n",
       "      <th>0</th>\n",
       "      <th>1</th>\n",
       "      <th>2</th>\n",
       "    </tr>\n",
       "  </thead>\n",
       "  <tbody>\n",
       "    <tr>\n",
       "      <th>0</th>\n",
       "      <td>17.930201</td>\n",
       "      <td>94.520592</td>\n",
       "      <td>320.259530</td>\n",
       "    </tr>\n",
       "    <tr>\n",
       "      <th>1</th>\n",
       "      <td>97.144697</td>\n",
       "      <td>69.593282</td>\n",
       "      <td>404.634472</td>\n",
       "    </tr>\n",
       "    <tr>\n",
       "      <th>2</th>\n",
       "      <td>81.775901</td>\n",
       "      <td>5.737648</td>\n",
       "      <td>181.485108</td>\n",
       "    </tr>\n",
       "    <tr>\n",
       "      <th>3</th>\n",
       "      <td>55.854342</td>\n",
       "      <td>70.325902</td>\n",
       "      <td>321.773638</td>\n",
       "    </tr>\n",
       "    <tr>\n",
       "      <th>4</th>\n",
       "      <td>49.366550</td>\n",
       "      <td>75.114040</td>\n",
       "      <td>322.465486</td>\n",
       "    </tr>\n",
       "  </tbody>\n",
       "</table>\n",
       "</div>"
      ],
      "text/plain": [
       "<div>\n",
       "<style scoped>\n",
       "    .dataframe tbody tr th:only-of-type {\n",
       "        vertical-align: middle;\n",
       "    }\n",
       "\n",
       "    .dataframe tbody tr th {\n",
       "        vertical-align: top;\n",
       "    }\n",
       "\n",
       "    .dataframe thead th {\n",
       "        text-align: right;\n",
       "    }\n",
       "</style>\n",
       "<table border=\"1\" class=\"dataframe\">\n",
       "  <thead>\n",
       "    <tr style=\"text-align: right;\">\n",
       "      <th></th>\n",
       "      <th>0</th>\n",
       "      <th>1</th>\n",
       "      <th>2</th>\n",
       "    </tr>\n",
       "  </thead>\n",
       "  <tbody>\n",
       "    <tr>\n",
       "      <th>0</th>\n",
       "      <td>17.930201</td>\n",
       "      <td>94.520592</td>\n",
       "      <td>320.259530</td>\n",
       "    </tr>\n",
       "    <tr>\n",
       "      <th>1</th>\n",
       "      <td>97.144697</td>\n",
       "      <td>69.593282</td>\n",
       "      <td>404.634472</td>\n",
       "    </tr>\n",
       "    <tr>\n",
       "      <th>2</th>\n",
       "      <td>81.775901</td>\n",
       "      <td>5.737648</td>\n",
       "      <td>181.485108</td>\n",
       "    </tr>\n",
       "    <tr>\n",
       "      <th>3</th>\n",
       "      <td>55.854342</td>\n",
       "      <td>70.325902</td>\n",
       "      <td>321.773638</td>\n",
       "    </tr>\n",
       "    <tr>\n",
       "      <th>4</th>\n",
       "      <td>49.366550</td>\n",
       "      <td>75.114040</td>\n",
       "      <td>322.465486</td>\n",
       "    </tr>\n",
       "  </tbody>\n",
       "</table>\n",
       "</div>"
      ]
     },
     "execution_count": 4,
     "metadata": {},
     "output_type": "execute_result"
    }
   ],
   "source": [
    "X.head()"
   ]
  },
  {
   "cell_type": "code",
   "execution_count": 4,
   "metadata": {},
   "outputs": [
    {
     "data": {
      "text/html": [
       "<div>\n",
       "<style scoped>\n",
       "    .dataframe tbody tr th:only-of-type {\n",
       "        vertical-align: middle;\n",
       "    }\n",
       "\n",
       "    .dataframe tbody tr th {\n",
       "        vertical-align: top;\n",
       "    }\n",
       "\n",
       "    .dataframe thead th {\n",
       "        text-align: right;\n",
       "    }\n",
       "</style>\n",
       "<table border=\"1\" class=\"dataframe\">\n",
       "  <thead>\n",
       "    <tr style=\"text-align: right;\">\n",
       "      <th></th>\n",
       "      <th>0</th>\n",
       "      <th>1</th>\n",
       "      <th>2</th>\n",
       "    </tr>\n",
       "  </thead>\n",
       "  <tbody>\n",
       "    <tr>\n",
       "      <th>0</th>\n",
       "      <td>17.930201</td>\n",
       "      <td>94.520592</td>\n",
       "      <td>320.259530</td>\n",
       "    </tr>\n",
       "    <tr>\n",
       "      <th>1</th>\n",
       "      <td>97.144697</td>\n",
       "      <td>69.593282</td>\n",
       "      <td>404.634472</td>\n",
       "    </tr>\n",
       "    <tr>\n",
       "      <th>2</th>\n",
       "      <td>81.775901</td>\n",
       "      <td>5.737648</td>\n",
       "      <td>181.485108</td>\n",
       "    </tr>\n",
       "    <tr>\n",
       "      <th>3</th>\n",
       "      <td>55.854342</td>\n",
       "      <td>70.325902</td>\n",
       "      <td>321.773638</td>\n",
       "    </tr>\n",
       "    <tr>\n",
       "      <th>4</th>\n",
       "      <td>49.366550</td>\n",
       "      <td>75.114040</td>\n",
       "      <td>322.465486</td>\n",
       "    </tr>\n",
       "    <tr>\n",
       "      <th>5</th>\n",
       "      <td>3.192702</td>\n",
       "      <td>29.256299</td>\n",
       "      <td>94.618811</td>\n",
       "    </tr>\n",
       "    <tr>\n",
       "      <th>6</th>\n",
       "      <td>49.200784</td>\n",
       "      <td>86.144439</td>\n",
       "      <td>356.348093</td>\n",
       "    </tr>\n",
       "    <tr>\n",
       "      <th>7</th>\n",
       "      <td>21.882804</td>\n",
       "      <td>46.841505</td>\n",
       "      <td>181.653769</td>\n",
       "    </tr>\n",
       "    <tr>\n",
       "      <th>8</th>\n",
       "      <td>79.509863</td>\n",
       "      <td>87.397356</td>\n",
       "      <td>423.557743</td>\n",
       "    </tr>\n",
       "    <tr>\n",
       "      <th>9</th>\n",
       "      <td>88.153887</td>\n",
       "      <td>65.205642</td>\n",
       "      <td>369.229245</td>\n",
       "    </tr>\n",
       "  </tbody>\n",
       "</table>\n",
       "</div>"
      ],
      "text/plain": [
       "<div>\n",
       "<style scoped>\n",
       "    .dataframe tbody tr th:only-of-type {\n",
       "        vertical-align: middle;\n",
       "    }\n",
       "\n",
       "    .dataframe tbody tr th {\n",
       "        vertical-align: top;\n",
       "    }\n",
       "\n",
       "    .dataframe thead th {\n",
       "        text-align: right;\n",
       "    }\n",
       "</style>\n",
       "<table border=\"1\" class=\"dataframe\">\n",
       "  <thead>\n",
       "    <tr style=\"text-align: right;\">\n",
       "      <th></th>\n",
       "      <th>0</th>\n",
       "      <th>1</th>\n",
       "      <th>2</th>\n",
       "    </tr>\n",
       "  </thead>\n",
       "  <tbody>\n",
       "    <tr>\n",
       "      <th>0</th>\n",
       "      <td>17.930201</td>\n",
       "      <td>94.520592</td>\n",
       "      <td>320.259530</td>\n",
       "    </tr>\n",
       "    <tr>\n",
       "      <th>1</th>\n",
       "      <td>97.144697</td>\n",
       "      <td>69.593282</td>\n",
       "      <td>404.634472</td>\n",
       "    </tr>\n",
       "    <tr>\n",
       "      <th>2</th>\n",
       "      <td>81.775901</td>\n",
       "      <td>5.737648</td>\n",
       "      <td>181.485108</td>\n",
       "    </tr>\n",
       "    <tr>\n",
       "      <th>3</th>\n",
       "      <td>55.854342</td>\n",
       "      <td>70.325902</td>\n",
       "      <td>321.773638</td>\n",
       "    </tr>\n",
       "    <tr>\n",
       "      <th>4</th>\n",
       "      <td>49.366550</td>\n",
       "      <td>75.114040</td>\n",
       "      <td>322.465486</td>\n",
       "    </tr>\n",
       "    <tr>\n",
       "      <th>5</th>\n",
       "      <td>3.192702</td>\n",
       "      <td>29.256299</td>\n",
       "      <td>94.618811</td>\n",
       "    </tr>\n",
       "    <tr>\n",
       "      <th>6</th>\n",
       "      <td>49.200784</td>\n",
       "      <td>86.144439</td>\n",
       "      <td>356.348093</td>\n",
       "    </tr>\n",
       "    <tr>\n",
       "      <th>7</th>\n",
       "      <td>21.882804</td>\n",
       "      <td>46.841505</td>\n",
       "      <td>181.653769</td>\n",
       "    </tr>\n",
       "    <tr>\n",
       "      <th>8</th>\n",
       "      <td>79.509863</td>\n",
       "      <td>87.397356</td>\n",
       "      <td>423.557743</td>\n",
       "    </tr>\n",
       "    <tr>\n",
       "      <th>9</th>\n",
       "      <td>88.153887</td>\n",
       "      <td>65.205642</td>\n",
       "      <td>369.229245</td>\n",
       "    </tr>\n",
       "  </tbody>\n",
       "</table>\n",
       "</div>"
      ]
     },
     "execution_count": 8,
     "metadata": {},
     "output_type": "execute_result"
    }
   ],
   "source": [
    "X.head(10)"
   ]
  },
  {
   "cell_type": "code",
   "execution_count": 6,
   "metadata": {},
   "outputs": [
    {
     "data": {
      "text/plain": [
       "numpy.ndarray"
      ]
     },
     "execution_count": 6,
     "metadata": {},
     "output_type": "execute_result"
    }
   ],
   "source": [
    "#convert df to Matrix\n",
    "from builtins import type\n",
    "\n",
    "M=X.as_matrix()\n",
    "type(M)"
   ]
  },
  {
   "cell_type": "code",
   "execution_count": 7,
   "metadata": {},
   "outputs": [
    {
     "data": {
      "text/plain": [
       "array([[  1.79302012e+01,   9.45205920e+01,   3.20259530e+02],\n       [  9.71446972e+01,   6.95932820e+01,   4.04634472e+02],\n       [  8.17759008e+01,   5.73764810e+00,   1.81485108e+02],\n       [  5.58543424e+01,   7.03259017e+01,   3.21773638e+02],\n       [  4.93665500e+01,   7.51140402e+01,   3.22465486e+02],\n       [  3.19270247e+00,   2.92562989e+01,   9.46188109e+01],\n       [  4.92007841e+01,   8.61444385e+01,   3.56348093e+02],\n       [  2.18828039e+01,   4.68415052e+01,   1.81653769e+02],\n       [  7.95098627e+01,   8.73973555e+01,   4.23557743e+02],\n       [  8.81538875e+01,   6.52056419e+01,   3.69229245e+02],\n       [  6.07438543e+01,   9.99576339e+01,   4.27605804e+02],\n       [  6.74155819e+01,   5.03683096e+01,   2.92471822e+02],\n       [  4.83181158e+01,   9.91289531e+01,   3.95529811e+02],\n       [  2.88299720e+01,   8.71849489e+01,   3.19031348e+02],\n       [  4.38537427e+01,   6.44736391e+01,   2.87428144e+02],\n       [  2.53136941e+01,   8.35452943e+01,   2.92768909e+02],\n       [  1.08077267e+01,   4.56955686e+01,   1.59663308e+02],\n       [  9.83657459e+01,   8.26973935e+01,   4.38798964e+02],\n       [  2.91469100e+01,   6.63651068e+01,   2.50986309e+02],\n       [  6.51003019e+01,   3.33538835e+01,   2.31711508e+02],\n       [  2.46441135e+01,   3.95400527e+01,   1.63398161e+02],\n       [  3.75598049e+01,   1.34572784e+00,   8.34801551e+01],\n       [  8.81645062e+01,   9.51536626e+01,   4.66265806e+02],\n       [  1.38346208e+01,   2.54940482e+01,   1.00886430e+02],\n       [  6.44108437e+01,   7.72598381e+01,   3.65641048e+02],\n       [  6.89259918e+01,   9.74536008e+01,   4.26140015e+02],\n       [  3.94884422e+01,   5.08561282e+01,   2.35532389e+02],\n       [  5.24631777e+01,   5.97765097e+01,   2.83291640e+02],\n       [  4.84847870e+01,   6.69703542e+01,   2.98581440e+02],\n       [  8.06208781e+00,   9.82426001e+01,   3.09234109e+02],\n       [  3.27318877e+01,   1.88535355e+01,   1.29610139e+02],\n       [  1.16523788e+01,   6.62645117e+01,   2.24150542e+02],\n       [  1.37303535e+01,   7.04725091e+01,   2.35305666e+02],\n       [  8.18555177e+00,   4.18519894e+01,   1.53484189e+02],\n       [  5.36098761e+01,   9.45601216e+01,   3.94939444e+02],\n       [  9.53686099e+01,   4.72955070e+01,   3.36126739e+02],\n       [  8.73336092e+01,   9.38039343e+01,   4.49363352e+02],\n       [  6.63576111e+01,   8.18475513e+01,   3.87014816e+02],\n       [  1.97547175e+01,   6.55233009e+01,   2.40389442e+02],\n       [  2.11334405e+01,   4.74371820e+01,   1.77148281e+02],\n       [  2.23738648e+01,   2.59556275e+01,   1.19611258e+02],\n       [  9.39904041e+01,   1.27890520e-01,   1.96716167e+02],\n       [  8.67201981e+01,   1.84137668e+01,   2.36260808e+02],\n       [  9.89983730e+01,   6.02312657e+01,   3.84381345e+02],\n       [  3.59396564e+00,   9.62522173e+01,   2.93237183e+02],\n       [  1.51023634e+01,   9.25569036e+01,   3.04890883e+02],\n       [  9.78341408e+01,   2.02390810e+00,   2.01293598e+02],\n       [  1.99382197e+01,   4.67782735e+01,   1.70610093e+02],\n       [  3.03735111e+01,   5.87775252e+01,   2.42373484e+02],\n       [  7.32928831e+01,   6.76696278e+01,   3.53082991e+02],\n       [  5.22309009e+01,   8.19024483e+01,   3.48725689e+02],\n       [  8.64295761e+01,   6.65402276e+01,   3.65959971e+02],\n       [  9.34008021e+01,   1.80752459e+01,   2.35472382e+02],\n       [  1.32134601e+01,   9.14888588e+01,   3.00606878e+02],\n       [  4.59346270e+00,   4.63359315e+01,   1.45818745e+02],\n       [  1.56692916e+01,   3.55437440e+01,   1.38880335e+02],\n       [  5.29593598e+01,   6.87202096e+01,   3.17163708e+02],\n       [  5.68175212e+01,   4.75727319e+01,   2.54903631e+02],\n       [  5.11335431e+01,   7.80421675e+01,   3.34584334e+02],\n       [  7.86216472e+00,   1.77290818e+01,   6.93555888e+01],\n       [  5.46986037e+01,   9.27445841e+01,   3.86859937e+02],\n       [  8.63990630e+01,   4.18886946e+01,   2.94871714e+02],\n       [  1.19475060e+01,   4.29613867e+01,   1.56754220e+02],\n       [  7.03584011e+01,   8.37062345e+01,   3.91806135e+02],\n       [  2.90223663e+01,   8.43277831e+01,   3.19310463e+02],\n       [  4.27594799e+01,   9.74933261e+01,   3.76291589e+02],\n       [  9.62156564e+01,   2.58342826e+01,   2.80617044e+02],\n       [  5.32277277e+01,   2.79055086e+01,   1.94430465e+02],\n       [  3.03609897e+01,   9.39644215e-01,   6.96488632e+01],\n       [  8.32775654e+01,   7.31793486e+01,   3.84597185e+02],\n       [  3.01876925e+01,   7.14653860e+00,   8.95390084e+01],\n       [  1.17884185e+01,   5.16977608e+01,   1.81550683e+02],\n       [  1.82924240e+01,   6.19779760e+01,   2.24773383e+02],\n       [  9.67126677e+01,   9.02910151e+00,   2.19567094e+02],\n       [  3.10127387e+01,   7.82833825e+01,   2.98490216e+02],\n       [  1.13972608e+01,   6.17286932e+01,   1.99944045e+02],\n       [  1.73925558e+01,   4.24114086e+00,   4.39156924e+01],\n       [  7.21826937e+01,   3.45390722e+01,   2.56068378e+02],\n       [  7.39800208e+01,   3.71649344e+00,   1.59372581e+02],\n       [  9.44930584e+01,   8.84171970e+01,   4.47132704e+02],\n       [  8.45628207e+01,   2.02411622e+01,   2.33078830e+02],\n       [  5.17424740e+01,   1.10097480e+01,   1.31070180e+02],\n       [  5.37485904e+01,   6.00251023e+01,   2.98814333e+02],\n       [  8.50508348e+01,   9.57369970e+01,   4.51803523e+02],\n       [  4.67772505e+01,   9.02022062e+01,   3.68366436e+02],\n       [  4.97584342e+01,   5.28344944e+01,   2.54706774e+02],\n       [  2.41192565e+01,   4.21028108e+01,   1.68308433e+02],\n       [  2.72015765e+01,   2.99787493e+01,   1.46342260e+02],\n       [  7.00959617e+00,   5.58760584e+01,   1.76810149e+02],\n       [  9.76469497e+01,   8.14762513e+00,   2.19160280e+02],\n       [  1.38298251e+00,   8.49440869e+01,   2.52905653e+02],\n       [  2.23235304e+01,   2.75150750e+01,   1.27570479e+02],\n       [  4.50454062e+01,   9.35204022e+01,   3.75822340e+02],\n       [  4.01639915e+01,   1.61699235e-01,   8.03890193e+01],\n       [  5.31827398e+01,   8.17031616e+00,   1.42718183e+02],\n       [  4.64567792e+01,   8.20001709e+01,   3.36876154e+02],\n       [  7.71303007e+01,   9.51887595e+01,   4.38460586e+02],\n       [  6.86006076e+01,   7.25711807e+01,   3.55900287e+02],\n       [  4.16938871e+01,   6.92411260e+01,   2.84834637e+02],\n       [  4.14266940e+00,   5.22547264e+01,   1.68034401e+02]])"
      ]
     },
     "execution_count": 7,
     "metadata": {},
     "output_type": "execute_result"
    }
   ],
   "source": [
    "M"
   ]
  },
  {
   "cell_type": "code",
   "execution_count": 10,
   "metadata": {},
   "outputs": [
    {
     "data": {
      "text/plain": [
       "0     17.930201\n1     97.144697\n2     81.775901\n3     55.854342\n4     49.366550\n5      3.192702\n6     49.200784\n7     21.882804\n8     79.509863\n9     88.153887\n10    60.743854\n11    67.415582\n12    48.318116\n13    28.829972\n14    43.853743\n15    25.313694\n16    10.807727\n17    98.365746\n18    29.146910\n19    65.100302\n20    24.644113\n21    37.559805\n22    88.164506\n23    13.834621\n24    64.410844\n25    68.925992\n26    39.488442\n27    52.463178\n28    48.484787\n29     8.062088\n        ...    \n70    30.187692\n71    11.788418\n72    18.292424\n73    96.712668\n74    31.012739\n75    11.397261\n76    17.392556\n77    72.182694\n78    73.980021\n79    94.493058\n80    84.562821\n81    51.742474\n82    53.748590\n83    85.050835\n84    46.777250\n85    49.758434\n86    24.119257\n87    27.201576\n88     7.009596\n89    97.646950\n90     1.382983\n91    22.323530\n92    45.045406\n93    40.163991\n94    53.182740\n95    46.456779\n96    77.130301\n97    68.600608\n98    41.693887\n99     4.142669\nName: 0, Length: 100, dtype: float64"
      ]
     },
     "execution_count": 10,
     "metadata": {},
     "output_type": "execute_result"
    }
   ],
   "source": [
    "# in pandas dataframe this will retrive the column that have name 0 \n",
    "X[0]"
   ]
  },
  {
   "cell_type": "code",
   "execution_count": 13,
   "metadata": {},
   "outputs": [
    {
     "data": {
      "text/plain": [
       "array([  17.93020121,   94.52059195,  320.2595296 ])"
      ]
     },
     "execution_count": 13,
     "metadata": {},
     "output_type": "execute_result"
    }
   ],
   "source": [
    "# in numpy matrice this will retrive the row that have index 0 \n",
    "M[0]"
   ]
  },
  {
   "cell_type": "code",
   "execution_count": 18,
   "metadata": {},
   "outputs": [
    {
     "data": {
      "text/plain": [
       "0     17.930201\n1     94.520592\n2    320.259530\nName: 0, dtype: float64"
      ]
     },
     "execution_count": 18,
     "metadata": {},
     "output_type": "execute_result"
    }
   ],
   "source": [
    "# how to get row with pandas :\n",
    "X.iloc[0]"
   ]
  },
  {
   "cell_type": "code",
   "execution_count": 20,
   "metadata": {},
   "outputs": [
    {
     "data": {
      "text/plain": [
       "0     17.930201\n1     94.520592\n2    320.259530\nName: 0, dtype: float64"
      ]
     },
     "execution_count": 20,
     "metadata": {},
     "output_type": "execute_result"
    }
   ],
   "source": [
    "#or but deprecated\n",
    "X.ix[0]"
   ]
  },
  {
   "cell_type": "code",
   "execution_count": 23,
   "metadata": {},
   "outputs": [
    {
     "data": {
      "text/html": [
       "<div>\n",
       "<style scoped>\n",
       "    .dataframe tbody tr th:only-of-type {\n",
       "        vertical-align: middle;\n",
       "    }\n",
       "\n",
       "    .dataframe tbody tr th {\n",
       "        vertical-align: top;\n",
       "    }\n",
       "\n",
       "    .dataframe thead th {\n",
       "        text-align: right;\n",
       "    }\n",
       "</style>\n",
       "<table border=\"1\" class=\"dataframe\">\n",
       "  <thead>\n",
       "    <tr style=\"text-align: right;\">\n",
       "      <th></th>\n",
       "      <th>0</th>\n",
       "      <th>1</th>\n",
       "      <th>2</th>\n",
       "    </tr>\n",
       "  </thead>\n",
       "  <tbody>\n",
       "    <tr>\n",
       "      <th>5</th>\n",
       "      <td>3.192702</td>\n",
       "      <td>29.256299</td>\n",
       "      <td>94.618811</td>\n",
       "    </tr>\n",
       "    <tr>\n",
       "      <th>44</th>\n",
       "      <td>3.593966</td>\n",
       "      <td>96.252217</td>\n",
       "      <td>293.237183</td>\n",
       "    </tr>\n",
       "    <tr>\n",
       "      <th>54</th>\n",
       "      <td>4.593463</td>\n",
       "      <td>46.335932</td>\n",
       "      <td>145.818745</td>\n",
       "    </tr>\n",
       "    <tr>\n",
       "      <th>90</th>\n",
       "      <td>1.382983</td>\n",
       "      <td>84.944087</td>\n",
       "      <td>252.905653</td>\n",
       "    </tr>\n",
       "    <tr>\n",
       "      <th>99</th>\n",
       "      <td>4.142669</td>\n",
       "      <td>52.254726</td>\n",
       "      <td>168.034401</td>\n",
       "    </tr>\n",
       "  </tbody>\n",
       "</table>\n",
       "</div>"
      ],
      "text/plain": [
       "<div>\n",
       "<style scoped>\n",
       "    .dataframe tbody tr th:only-of-type {\n",
       "        vertical-align: middle;\n",
       "    }\n",
       "\n",
       "    .dataframe tbody tr th {\n",
       "        vertical-align: top;\n",
       "    }\n",
       "\n",
       "    .dataframe thead th {\n",
       "        text-align: right;\n",
       "    }\n",
       "</style>\n",
       "<table border=\"1\" class=\"dataframe\">\n",
       "  <thead>\n",
       "    <tr style=\"text-align: right;\">\n",
       "      <th></th>\n",
       "      <th>0</th>\n",
       "      <th>1</th>\n",
       "      <th>2</th>\n",
       "    </tr>\n",
       "  </thead>\n",
       "  <tbody>\n",
       "    <tr>\n",
       "      <th>5</th>\n",
       "      <td>3.192702</td>\n",
       "      <td>29.256299</td>\n",
       "      <td>94.618811</td>\n",
       "    </tr>\n",
       "    <tr>\n",
       "      <th>44</th>\n",
       "      <td>3.593966</td>\n",
       "      <td>96.252217</td>\n",
       "      <td>293.237183</td>\n",
       "    </tr>\n",
       "    <tr>\n",
       "      <th>54</th>\n",
       "      <td>4.593463</td>\n",
       "      <td>46.335932</td>\n",
       "      <td>145.818745</td>\n",
       "    </tr>\n",
       "    <tr>\n",
       "      <th>90</th>\n",
       "      <td>1.382983</td>\n",
       "      <td>84.944087</td>\n",
       "      <td>252.905653</td>\n",
       "    </tr>\n",
       "    <tr>\n",
       "      <th>99</th>\n",
       "      <td>4.142669</td>\n",
       "      <td>52.254726</td>\n",
       "      <td>168.034401</td>\n",
       "    </tr>\n",
       "  </tbody>\n",
       "</table>\n",
       "</div>"
      ]
     },
     "execution_count": 23,
     "metadata": {},
     "output_type": "execute_result"
    }
   ],
   "source": [
    "# selection in pandas :\n",
    "# select all rows in 0 column that  are less than 5\n",
    "X[X[0] < 5]"
   ]
  },
  {
   "cell_type": "code",
   "execution_count": 24,
   "metadata": {},
   "outputs": [
    {
     "data": {
      "text/plain": [
       "0     False\n1     False\n2     False\n3     False\n4     False\n5      True\n6     False\n7     False\n8     False\n9     False\n10    False\n11    False\n12    False\n13    False\n14    False\n15    False\n16    False\n17    False\n18    False\n19    False\n20    False\n21    False\n22    False\n23    False\n24    False\n25    False\n26    False\n27    False\n28    False\n29    False\n      ...  \n70    False\n71    False\n72    False\n73    False\n74    False\n75    False\n76    False\n77    False\n78    False\n79    False\n80    False\n81    False\n82    False\n83    False\n84    False\n85    False\n86    False\n87    False\n88    False\n89    False\n90     True\n91    False\n92    False\n93    False\n94    False\n95    False\n96    False\n97    False\n98    False\n99     True\nName: 0, Length: 100, dtype: bool"
      ]
     },
     "execution_count": 24,
     "metadata": {},
     "output_type": "execute_result"
    }
   ],
   "source": [
    "X[0] < 5"
   ]
  },
  {
   "cell_type": "code",
   "execution_count": null,
   "metadata": {},
   "outputs": [],
   "source": []
  }
 ],
 "metadata": {
  "kernelspec": {
   "display_name": "Python 2",
   "language": "python",
   "name": "python2"
  },
  "language_info": {
   "codemirror_mode": {
    "name": "ipython",
    "version": 2
   },
   "file_extension": ".py",
   "mimetype": "text/x-python",
   "name": "python",
   "nbconvert_exporter": "python",
   "pygments_lexer": "ipython2",
   "version": "2.7.6"
  }
 },
 "nbformat": 4,
 "nbformat_minor": 0
}
