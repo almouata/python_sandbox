{
 "cells": [
  {
   "cell_type": "code",
   "execution_count": 1,
   "metadata": {
    "collapsed": true
   },
   "outputs": [
    {
     "data": {
      "text/plain": [
       "[1, 2]"
      ]
     },
     "execution_count": 1,
     "metadata": {},
     "output_type": "execute_result"
    }
   ],
   "source": [
    "import numpy as np\n",
    "#use list of list \n",
    "M = np.array([[1,2],[3,4]])\n",
    "L = [[1,2],[3,4]]\n",
    "#python way \n",
    "L[0]"
   ]
  },
  {
   "cell_type": "code",
   "execution_count": 5,
   "metadata": {},
   "outputs": [
    {
     "data": {
      "text/plain": [
       "1"
      ]
     },
     "execution_count": 5,
     "metadata": {},
     "output_type": "execute_result"
    }
   ],
   "source": [
    "L[0][0]"
   ]
  },
  {
   "cell_type": "code",
   "execution_count": 7,
   "metadata": {},
   "outputs": [
    {
     "data": {
      "text/plain": [
       "1"
      ]
     },
     "execution_count": 7,
     "metadata": {},
     "output_type": "execute_result"
    }
   ],
   "source": [
    "#numpy\n",
    "M[0,0]"
   ]
  },
  {
   "cell_type": "code",
   "execution_count": 9,
   "metadata": {},
   "outputs": [
    {
     "ename": "TypeError",
     "evalue": "list indices must be integers or slices, not tuple",
     "traceback": [
      "\u001b[0;31m---------------------------------------------------------------------------\u001b[0m",
      "\u001b[0;31mTypeError\u001b[0m                                 Traceback (most recent call last)",
      "\u001b[0;32m<ipython-input-9-b5449831bd1f>\u001b[0m in \u001b[0;36m<module>\u001b[0;34m()\u001b[0m\n\u001b[1;32m      1\u001b[0m \u001b[0;31m#not possible  python\u001b[0m\u001b[0;34m\u001b[0m\u001b[0;34m\u001b[0m\u001b[0m\n\u001b[0;32m----> 2\u001b[0;31m \u001b[0mL\u001b[0m\u001b[0;34m[\u001b[0m\u001b[0;36m0\u001b[0m\u001b[0;34m,\u001b[0m\u001b[0;36m0\u001b[0m\u001b[0;34m]\u001b[0m\u001b[0;34m\u001b[0m\u001b[0m\n\u001b[0m",
      "\u001b[0;31mTypeError\u001b[0m: list indices must be integers or slices, not tuple"
     ],
     "output_type": "error"
    }
   ],
   "source": [
    "#not possible  python \n",
    "L[0,0]"
   ]
  },
  {
   "cell_type": "code",
   "execution_count": 10,
   "metadata": {},
   "outputs": [],
   "source": [
    "#do it proper numpy way\n",
    "M2 = np.matrix([[1,2],[3,4]])"
   ]
  },
  {
   "cell_type": "code",
   "execution_count": 11,
   "metadata": {},
   "outputs": [
    {
     "data": {
      "text/plain": [
       "matrix([[1, 2],\n        [3, 4]])"
      ]
     },
     "execution_count": 11,
     "metadata": {},
     "output_type": "execute_result"
    }
   ],
   "source": [
    "M2"
   ]
  },
  {
   "cell_type": "code",
   "execution_count": 14,
   "metadata": {},
   "outputs": [
    {
     "data": {
      "text/plain": [
       "array([[1, 2],\n       [3, 4]])"
      ]
     },
     "execution_count": 14,
     "metadata": {},
     "output_type": "execute_result"
    }
   ],
   "source": [
    "#we can cast from matrix to array  \n",
    "A = np.array(M2)\n",
    "A"
   ]
  },
  {
   "cell_type": "code",
   "execution_count": 36,
   "metadata": {},
   "outputs": [
    {
     "data": {
      "text/plain": [
       "array([[1, 3],\n       [2, 4]])"
      ]
     },
     "execution_count": 36,
     "metadata": {},
     "output_type": "execute_result"
    }
   ],
   "source": [
    "#transpse\n",
    "B = A.T\n",
    "B"
   ]
  },
  {
   "cell_type": "code",
   "execution_count": 37,
   "metadata": {},
   "outputs": [
    {
     "data": {
      "text/plain": [
       "array([[1, 2],\n       [3, 4]])"
      ]
     },
     "execution_count": 37,
     "metadata": {},
     "output_type": "execute_result"
    }
   ],
   "source": [
    "B.transpose()"
   ]
  },
  {
   "cell_type": "code",
   "execution_count": 39,
   "metadata": {},
   "outputs": [
    {
     "data": {
      "text/plain": [
       "array(10)"
      ]
     },
     "execution_count": 39,
     "metadata": {},
     "output_type": "execute_result"
    }
   ],
   "source": [
    "#initiate an array with dimentions \n",
    "Z=np.array(10)\n",
    "Z   "
   ]
  },
  {
   "cell_type": "code",
   "execution_count": 40,
   "metadata": {},
   "outputs": [
    {
     "data": {
      "text/plain": [
       "array([ 0.,  0.,  0.,  0.,  0.,  0.,  0.,  0.,  0.,  0.])"
      ]
     },
     "execution_count": 40,
     "metadata": {},
     "output_type": "execute_result"
    }
   ],
   "source": [
    "X= np.zeros(10)\n",
    "X"
   ]
  },
  {
   "cell_type": "code",
   "execution_count": 42,
   "metadata": {},
   "outputs": [
    {
     "data": {
      "text/plain": [
       "array([[ 0.,  0.,  0.,  0.,  0.,  0.,  0.,  0.,  0.,  0.],\n       [ 0.,  0.,  0.,  0.,  0.,  0.,  0.,  0.,  0.,  0.],\n       [ 0.,  0.,  0.,  0.,  0.,  0.,  0.,  0.,  0.,  0.],\n       [ 0.,  0.,  0.,  0.,  0.,  0.,  0.,  0.,  0.,  0.],\n       [ 0.,  0.,  0.,  0.,  0.,  0.,  0.,  0.,  0.,  0.],\n       [ 0.,  0.,  0.,  0.,  0.,  0.,  0.,  0.,  0.,  0.],\n       [ 0.,  0.,  0.,  0.,  0.,  0.,  0.,  0.,  0.,  0.],\n       [ 0.,  0.,  0.,  0.,  0.,  0.,  0.,  0.,  0.,  0.],\n       [ 0.,  0.,  0.,  0.,  0.,  0.,  0.,  0.,  0.,  0.],\n       [ 0.,  0.,  0.,  0.,  0.,  0.,  0.,  0.,  0.,  0.]])"
      ]
     },
     "execution_count": 42,
     "metadata": {},
     "output_type": "execute_result"
    }
   ],
   "source": [
    "Z = np.zeros((10,10))\n",
    "Z"
   ]
  },
  {
   "cell_type": "code",
   "execution_count": 43,
   "metadata": {},
   "outputs": [
    {
     "data": {
      "text/plain": [
       "array([[ 1.,  1.,  1.,  1.,  1.,  1.,  1.,  1.,  1.,  1.],\n       [ 1.,  1.,  1.,  1.,  1.,  1.,  1.,  1.,  1.,  1.],\n       [ 1.,  1.,  1.,  1.,  1.,  1.,  1.,  1.,  1.,  1.],\n       [ 1.,  1.,  1.,  1.,  1.,  1.,  1.,  1.,  1.,  1.],\n       [ 1.,  1.,  1.,  1.,  1.,  1.,  1.,  1.,  1.,  1.],\n       [ 1.,  1.,  1.,  1.,  1.,  1.,  1.,  1.,  1.,  1.],\n       [ 1.,  1.,  1.,  1.,  1.,  1.,  1.,  1.,  1.,  1.],\n       [ 1.,  1.,  1.,  1.,  1.,  1.,  1.,  1.,  1.,  1.],\n       [ 1.,  1.,  1.,  1.,  1.,  1.,  1.,  1.,  1.,  1.],\n       [ 1.,  1.,  1.,  1.,  1.,  1.,  1.,  1.,  1.,  1.]])"
      ]
     },
     "execution_count": 43,
     "metadata": {},
     "output_type": "execute_result"
    }
   ],
   "source": [
    "O = np.ones((10,10))\n",
    "O"
   ]
  },
  {
   "cell_type": "code",
   "execution_count": 46,
   "metadata": {},
   "outputs": [
    {
     "data": {
      "text/plain": [
       "array([[ 0.71108242,  0.73466408,  0.18686557,  0.40170543,  0.9497457 ,\n         0.86924604,  0.7798938 ,  0.42772929,  0.32069523,  0.31598477],\n       [ 0.01980719,  0.48142917,  0.40268253,  0.04050179,  0.75868204,\n         0.04283494,  0.00970955,  0.02385045,  0.83112891,  0.88627181],\n       [ 0.22422787,  0.7964493 ,  0.79795381,  0.9340276 ,  0.08943557,\n         0.33661864,  0.10091239,  0.02133902,  0.99033585,  0.81358388],\n       [ 0.53138005,  0.16310814,  0.62577381,  0.21732397,  0.97133104,\n         0.9095629 ,  0.98428042,  0.05175073,  0.85937926,  0.74488229],\n       [ 0.4053387 ,  0.36761572,  0.82710725,  0.31630487,  0.41703455,\n         0.80105641,  0.24858055,  0.15069358,  0.99891771,  0.02337136],\n       [ 0.5205826 ,  0.82577593,  0.32591489,  0.89872232,  0.28994962,\n         0.77945841,  0.34999382,  0.88080074,  0.71006044,  0.89283399],\n       [ 0.66413478,  0.03714031,  0.24486892,  0.02048787,  0.69309516,\n         0.45738831,  0.82976964,  0.2367072 ,  0.23582757,  0.50704436],\n       [ 0.32980187,  0.21900498,  0.4288359 ,  0.49914274,  0.68404797,\n         0.42292795,  0.47312459,  0.51462166,  0.69359868,  0.94238068],\n       [ 0.62705186,  0.95897529,  0.9009429 ,  0.09733781,  0.54211163,\n         0.44839928,  0.14495684,  0.42960416,  0.83290718,  0.06213729],\n       [ 0.42585864,  0.83480915,  0.94457236,  0.56542972,  0.01125467,\n         0.99056293,  0.45432523,  0.18551091,  0.35870543,  0.47749216]])"
      ]
     },
     "execution_count": 46,
     "metadata": {},
     "output_type": "execute_result"
    }
   ],
   "source": [
    "R = np.random.random((10,10))\n",
    "R"
   ]
  },
  {
   "cell_type": "code",
   "execution_count": 47,
   "metadata": {},
   "outputs": [
    {
     "data": {
      "text/plain": [
       "array([[ 1.30961032,  0.30150114, -0.47430539, -0.86803185,  0.34213205,\n        -0.1602205 , -0.68261866,  1.21399851, -3.05435932, -0.10501978],\n       [-0.03328133,  0.32842273, -1.23732081,  1.55698728,  0.3906004 ,\n         0.11742851,  1.09315004,  2.48841931, -0.76364079,  0.05144176],\n       [-0.32931541,  0.25400642,  1.13504599, -2.03439934,  0.22464706,\n         0.91041278,  1.10141949, -0.53274939, -1.84488682,  2.09053667],\n       [-1.69186771,  0.80665657,  0.43386671, -0.01973859, -1.25964465,\n         0.76024174,  0.22242408, -0.89110306, -0.14886625, -1.28828532],\n       [ 1.10209881,  0.11834977, -0.37836139, -0.47756989,  0.77198056,\n        -0.06261803,  2.20124073,  1.89424124, -0.62224803,  1.03497149],\n       [ 0.37804725, -0.265647  ,  0.13738289,  1.0770705 ,  0.09305553,\n        -0.62908463, -0.67054637, -0.04012464, -0.07126794,  2.09832929],\n       [-1.442813  , -0.7817422 , -2.17901544,  0.33853418,  0.75102663,\n        -0.03043002,  1.34639653, -0.01473717, -0.29855416,  1.10526728],\n       [-0.42277445,  0.33062881,  0.56141042, -0.70369798, -0.51153284,\n         0.94800993, -0.4164238 ,  1.6029354 , -0.17083157,  0.62252855],\n       [-0.45982628, -0.57124431,  0.71221072,  0.23248375, -0.51491018,\n         0.26776981, -1.0022676 , -1.43481174, -1.21068414,  1.49513741],\n       [-1.33025147,  0.72475885,  1.31582748, -0.07418859, -0.0823885 ,\n         0.24988675,  0.44297343,  1.03435626,  2.20062305,  0.38386026]])"
      ]
     },
     "execution_count": 47,
     "metadata": {},
     "output_type": "execute_result"
    }
   ],
   "source": [
    "#gaussian  distrub\n",
    "G = np.random.randn(10,10)\n",
    "G"
   ]
  },
  {
   "cell_type": "code",
   "execution_count": 49,
   "metadata": {},
   "outputs": [
    {
     "data": {
      "text/plain": [
       "0.1041609479271596"
      ]
     },
     "execution_count": 49,
     "metadata": {},
     "output_type": "execute_result"
    }
   ],
   "source": [
    "#statistic functions :\n",
    "G.mean()"
   ]
  },
  {
   "cell_type": "code",
   "execution_count": 50,
   "metadata": {},
   "outputs": [
    {
     "data": {
      "text/plain": [
       "1.0343565351587332"
      ]
     },
     "execution_count": 50,
     "metadata": {},
     "output_type": "execute_result"
    }
   ],
   "source": [
    "G.var()"
   ]
  },
  {
   "cell_type": "code",
   "execution_count": 52,
   "metadata": {},
   "outputs": [
    {
     "data": {
      "text/plain": [
       "array([[-2.17731346, -2.17731346, -2.17731346, -2.17731346, -2.17731346,\n        -2.17731346, -2.17731346, -2.17731346, -2.17731346, -2.17731346],\n       [ 3.99220708,  3.99220708,  3.99220708,  3.99220708,  3.99220708,\n         3.99220708,  3.99220708,  3.99220708,  3.99220708,  3.99220708],\n       [ 0.97471746,  0.97471746,  0.97471746,  0.97471746,  0.97471746,\n         0.97471746,  0.97471746,  0.97471746,  0.97471746,  0.97471746],\n       [-3.07631649, -3.07631649, -3.07631649, -3.07631649, -3.07631649,\n        -3.07631649, -3.07631649, -3.07631649, -3.07631649, -3.07631649],\n       [ 5.58208527,  5.58208527,  5.58208527,  5.58208527,  5.58208527,\n         5.58208527,  5.58208527,  5.58208527,  5.58208527,  5.58208527],\n       [ 2.10721488,  2.10721488,  2.10721488,  2.10721488,  2.10721488,\n         2.10721488,  2.10721488,  2.10721488,  2.10721488,  2.10721488],\n       [-1.20606738, -1.20606738, -1.20606738, -1.20606738, -1.20606738,\n        -1.20606738, -1.20606738, -1.20606738, -1.20606738, -1.20606738],\n       [ 1.84025247,  1.84025247,  1.84025247,  1.84025247,  1.84025247,\n         1.84025247,  1.84025247,  1.84025247,  1.84025247,  1.84025247],\n       [-2.48614257, -2.48614257, -2.48614257, -2.48614257, -2.48614257,\n        -2.48614257, -2.48614257, -2.48614257, -2.48614257, -2.48614257],\n       [ 4.86545754,  4.86545754,  4.86545754,  4.86545754,  4.86545754,\n         4.86545754,  4.86545754,  4.86545754,  4.86545754,  4.86545754]])"
      ]
     },
     "execution_count": 52,
     "metadata": {},
     "output_type": "execute_result"
    }
   ],
   "source": [
    "# matrix products : produit matriciel\n",
    "# in numpy \"*\" means element by element multiplication && \".dot()\" means matrix multiplication\n",
    "Cmp = G.dot(O)\n",
    "Cmp"
   ]
  },
  {
   "cell_type": "code",
   "execution_count": 53,
   "metadata": {},
   "outputs": [
    {
     "data": {
      "text/plain": [
       "array([[ 1.30961032,  0.30150114, -0.47430539, -0.86803185,  0.34213205,\n        -0.1602205 , -0.68261866,  1.21399851, -3.05435932, -0.10501978],\n       [-0.03328133,  0.32842273, -1.23732081,  1.55698728,  0.3906004 ,\n         0.11742851,  1.09315004,  2.48841931, -0.76364079,  0.05144176],\n       [-0.32931541,  0.25400642,  1.13504599, -2.03439934,  0.22464706,\n         0.91041278,  1.10141949, -0.53274939, -1.84488682,  2.09053667],\n       [-1.69186771,  0.80665657,  0.43386671, -0.01973859, -1.25964465,\n         0.76024174,  0.22242408, -0.89110306, -0.14886625, -1.28828532],\n       [ 1.10209881,  0.11834977, -0.37836139, -0.47756989,  0.77198056,\n        -0.06261803,  2.20124073,  1.89424124, -0.62224803,  1.03497149],\n       [ 0.37804725, -0.265647  ,  0.13738289,  1.0770705 ,  0.09305553,\n        -0.62908463, -0.67054637, -0.04012464, -0.07126794,  2.09832929],\n       [-1.442813  , -0.7817422 , -2.17901544,  0.33853418,  0.75102663,\n        -0.03043002,  1.34639653, -0.01473717, -0.29855416,  1.10526728],\n       [-0.42277445,  0.33062881,  0.56141042, -0.70369798, -0.51153284,\n         0.94800993, -0.4164238 ,  1.6029354 , -0.17083157,  0.62252855],\n       [-0.45982628, -0.57124431,  0.71221072,  0.23248375, -0.51491018,\n         0.26776981, -1.0022676 , -1.43481174, -1.21068414,  1.49513741],\n       [-1.33025147,  0.72475885,  1.31582748, -0.07418859, -0.0823885 ,\n         0.24988675,  0.44297343,  1.03435626,  2.20062305,  0.38386026]])"
      ]
     },
     "execution_count": 53,
     "metadata": {},
     "output_type": "execute_result"
    }
   ],
   "source": [
    "Cem = G*O\n",
    "Cem"
   ]
  },
  {
   "cell_type": "code",
   "execution_count": 54,
   "metadata": {},
   "outputs": [
    {
     "data": {
      "text/plain": [
       "array([[-2. ,  1. ],\n       [ 1.5, -0.5]])"
      ]
     },
     "execution_count": 54,
     "metadata": {},
     "output_type": "execute_result"
    }
   ],
   "source": [
    "#matrix operations  \n",
    "#inverse :\n",
    "A = np.array([[1,2],[3,4]])\n",
    "Ainv = np.linalg.inv(A)\n",
    "Ainv"
   ]
  },
  {
   "cell_type": "code",
   "execution_count": 55,
   "metadata": {},
   "outputs": [
    {
     "data": {
      "text/plain": [
       "array([[  1.00000000e+00,   0.00000000e+00],\n       [  1.11022302e-16,   1.00000000e+00]])"
      ]
     },
     "execution_count": 55,
     "metadata": {},
     "output_type": "execute_result"
    }
   ],
   "source": [
    "Ainv.dot(A)"
   ]
  },
  {
   "cell_type": "code",
   "execution_count": 56,
   "metadata": {},
   "outputs": [
    {
     "data": {
      "text/plain": [
       "array([[  1.00000000e+00,   0.00000000e+00],\n       [  8.88178420e-16,   1.00000000e+00]])"
      ]
     },
     "execution_count": 56,
     "metadata": {},
     "output_type": "execute_result"
    }
   ],
   "source": [
    "A.dot(Ainv)"
   ]
  },
  {
   "cell_type": "code",
   "execution_count": 57,
   "metadata": {},
   "outputs": [
    {
     "data": {
      "text/plain": [
       "-2.0000000000000004"
      ]
     },
     "execution_count": 57,
     "metadata": {},
     "output_type": "execute_result"
    }
   ],
   "source": [
    "#matrix determin\n",
    "np.linalg.det(A)"
   ]
  },
  {
   "cell_type": "code",
   "execution_count": 58,
   "metadata": {},
   "outputs": [
    {
     "data": {
      "text/plain": [
       "array([1, 4])"
      ]
     },
     "execution_count": 58,
     "metadata": {},
     "output_type": "execute_result"
    }
   ],
   "source": [
    "#matrix diagonal\n",
    "np.diag(A)"
   ]
  },
  {
   "cell_type": "code",
   "execution_count": 59,
   "metadata": {},
   "outputs": [
    {
     "data": {
      "text/plain": [
       "array([[1, 0, 0, 0, 0, 0, 0, 0, 0],\n       [0, 2, 0, 0, 0, 0, 0, 0, 0],\n       [0, 0, 3, 0, 0, 0, 0, 0, 0],\n       [0, 0, 0, 4, 0, 0, 0, 0, 0],\n       [0, 0, 0, 0, 5, 0, 0, 0, 0],\n       [0, 0, 0, 0, 0, 6, 0, 0, 0],\n       [0, 0, 0, 0, 0, 0, 7, 0, 0],\n       [0, 0, 0, 0, 0, 0, 0, 8, 0],\n       [0, 0, 0, 0, 0, 0, 0, 0, 9]])"
      ]
     },
     "execution_count": 59,
     "metadata": {},
     "output_type": "execute_result"
    }
   ],
   "source": [
    "#if we want to cerate an  matrix from diag array and the rest is zero\n",
    "np.diag([1,2,3,4,5,6,7,8,9])"
   ]
  },
  {
   "cell_type": "code",
   "execution_count": 60,
   "metadata": {},
   "outputs": [
    {
     "data": {
      "text/plain": [
       "array([[3, 4],\n       [6, 8]])"
      ]
     },
     "execution_count": 60,
     "metadata": {},
     "output_type": "execute_result"
    }
   ],
   "source": [
    "#outer/inner product\n",
    "v1= np.array([1,2])\n",
    "v2 = np.array([3,4])\n",
    "np.outer(v1,v2)"
   ]
  },
  {
   "cell_type": "code",
   "execution_count": 61,
   "metadata": {},
   "outputs": [
    {
     "data": {
      "text/plain": [
       "11"
      ]
     },
     "execution_count": 61,
     "metadata": {},
     "output_type": "execute_result"
    }
   ],
   "source": [
    "np.inner(v1,v2)"
   ]
  },
  {
   "cell_type": "code",
   "execution_count": 62,
   "metadata": {},
   "outputs": [
    {
     "data": {
      "text/plain": [
       "11"
      ]
     },
     "execution_count": 62,
     "metadata": {},
     "output_type": "execute_result"
    }
   ],
   "source": [
    "v1.dot(v2)"
   ]
  },
  {
   "cell_type": "code",
   "execution_count": 64,
   "metadata": {},
   "outputs": [
    {
     "data": {
      "text/plain": [
       "10.0"
      ]
     },
     "execution_count": 64,
     "metadata": {},
     "output_type": "execute_result"
    }
   ],
   "source": [
    "np.trace(O)"
   ]
  },
  {
   "cell_type": "code",
   "execution_count": 65,
   "metadata": {},
   "outputs": [
    {
     "data": {
      "text/plain": [
       "10.0"
      ]
     },
     "execution_count": 65,
     "metadata": {},
     "output_type": "execute_result"
    }
   ],
   "source": [
    "np.diag(O).sum()"
   ]
  },
  {
   "cell_type": "code",
   "execution_count": 73,
   "metadata": {},
   "outputs": [
    {
     "data": {
      "text/plain": [
       "(100, 100)"
      ]
     },
     "execution_count": 73,
     "metadata": {},
     "output_type": "execute_result"
    }
   ],
   "source": [
    "#example to calculate the covariance of a randon gaussian distributiuon with 3 features and 100 sample\n",
    "X= np.random.randn(100,3)\n",
    "cov = np.cov(X)\n",
    "cov.shape\n"
   ]
  },
  {
   "cell_type": "code",
   "execution_count": 74,
   "metadata": {},
   "outputs": [
    {
     "data": {
      "text/plain": [
       "array([[ 0.79805613, -0.054528  ,  0.08645369],\n       [-0.054528  ,  1.11394741,  0.00179683],\n       [ 0.08645369,  0.00179683,  1.00012199]])"
      ]
     },
     "execution_count": 74,
     "metadata": {},
     "output_type": "execute_result"
    }
   ],
   "source": [
    "#it is wrong covariance , should be 3,3\n",
    "cov = np.cov(X.T)\n",
    "cov"
   ]
  },
  {
   "cell_type": "code",
   "execution_count": 75,
   "metadata": {},
   "outputs": [
    {
     "data": {
      "text/plain": [
       "(array([ 0.75855101,  1.02895045,  1.12462406]),\n array([[ 0.93128788, -0.30796359, -0.19457986],\n        [ 0.14457678, -0.17780938,  0.97338655],\n        [-0.33436574, -0.93463482, -0.12106733]]))"
      ]
     },
     "execution_count": 75,
     "metadata": {},
     "output_type": "execute_result"
    }
   ],
   "source": [
    "#EigenValue & EigenVector | valeur propre et vercteur propre\n",
    "np.linalg.eigh(cov)"
   ]
  },
  {
   "cell_type": "code",
   "execution_count": 76,
   "metadata": {},
   "outputs": [
    {
     "data": {
      "text/plain": [
       "(array([ 0.75855101,  1.02895045,  1.12462406]),\n array([[-0.93128788, -0.30796359, -0.19457986],\n        [-0.14457678, -0.17780938,  0.97338655],\n        [ 0.33436574, -0.93463482, -0.12106733]]))"
      ]
     },
     "execution_count": 76,
     "metadata": {},
     "output_type": "execute_result"
    }
   ],
   "source": [
    "#eig may varry order\n",
    "np.linalg.eig(cov)"
   ]
  },
  {
   "cell_type": "code",
   "execution_count": 77,
   "metadata": {},
   "outputs": [],
   "source": []
  },
  {
   "cell_type": "code",
   "execution_count": null,
   "metadata": {},
   "outputs": [],
   "source": []
  }
 ],
 "metadata": {
  "kernelspec": {
   "display_name": "Python 2",
   "language": "python",
   "name": "python2"
  },
  "language_info": {
   "codemirror_mode": {
    "name": "ipython",
    "version": 2
   },
   "file_extension": ".py",
   "mimetype": "text/x-python",
   "name": "python",
   "nbconvert_exporter": "python",
   "pygments_lexer": "ipython2",
   "version": "2.7.6"
  }
 },
 "nbformat": 4,
 "nbformat_minor": 0
}
